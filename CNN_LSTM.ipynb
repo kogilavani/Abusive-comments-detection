{
  "cells": [
    {
      "cell_type": "code",
      "execution_count": null,
      "metadata": {
        "colab": {
          "background_save": true
        },
        "id": "9cL7o66wpXCH"
      },
      "outputs": [],
      "source": [
        "import numpy as np # linear algebra\n",
        "import pandas as pd # data processing, CSV file I/O (e.g. pd.read_csv)\n",
        "from keras.layers import Dense, Embedding, LSTM,Bidirectional, SpatialDropout1D\n",
        "from keras.models import Sequential\n",
        "from sklearn.feature_extraction.text import CountVectorizer\n",
        "from keras.preprocessing.text import Tokenizer\n",
        "from keras.preprocessing.sequence import pad_sequences\n",
        "from sklearn.model_selection import train_test_split\n",
        "from keras.utils.np_utils import to_categorical\n",
        "from keras.callbacks import EarlyStopping\n",
        "import matplotlib.pyplot as plt\n",
        "import os\n",
        "import re\n",
        "import shutil\n",
        "import string\n",
        "import tensorflow as tf\n",
        "from tensorflow.keras import regularizers\n",
        "from tensorflow.keras import layers\n",
        "from tensorflow.keras import losses\n",
        "from collections import Counter\n",
        "import pandas as pd\n",
        "import numpy as np\n",
        "from sklearn.preprocessing import LabelEncoder\n",
        "from sklearn.model_selection import train_test_split\n",
        "from sklearn.metrics import classification_report\n",
        "from tensorflow.keras import preprocessing\n",
        "from tensorflow.keras.preprocessing.text import Tokenizer\n",
        "from tensorflow.keras.preprocessing.sequence import pad_sequences\n",
        "import pydot\n",
        "import pandas as pd\n",
        "import numpy as np\n",
        "import string, re\n",
        "import itertools\n",
        "import nltk\n",
        "import plotly.offline as py\n",
        "import plotly.graph_objs as go\n",
        "import matplotlib.pyplot as plt\n",
        "import seaborn as sns\n",
        "from wordcloud import WordCloud,STOPWORDS\n",
        "from sklearn.model_selection import train_test_split\n",
        "from sklearn.metrics import confusion_matrix\n",
        "from sklearn.feature_extraction.text import TfidfVectorizer\n",
        "from sklearn.naive_bayes import MultinomialNB\n",
        "from sklearn.metrics import accuracy_score\n",
        "py.init_notebook_mode(connected=True)\n",
        "%matplotlib inline"
      ]
    },
    {
      "cell_type": "code",
      "execution_count": null,
      "metadata": {
        "id": "UOxu8oM4paqX"
      },
      "outputs": [],
      "source": [
        "#train = pd.read_csv('/content/train_dataset - ta-misogyny-train.csv', usecols=['Category','Text'])\n",
        "\n",
        "#val = pd.read_csv('/content/Validation_set - Sheet1 (1).csv', usecols=['Category','Text'])\n",
        "\n",
        "#test = pd.read_csv('/content/ta-misogyny_test-dev - ta-misogyny-dev (11) - ta-misogyny_test-dev - ta-misogyny-dev (1).csv', usecols=['Category','Text'])"
      ]
    },
    {
      "cell_type": "code",
      "execution_count": null,
      "metadata": {
        "id": "DIoKIazy8MvG"
      },
      "outputs": [],
      "source": [
        "train = pd.read_csv('/content/train_dataset - ta-misogyny-train.csv', usecols=['Category','Text'])\n",
        "\n",
        "val = pd.read_csv('/content/Validation_set - Sheet1.csv', usecols=['Category','Text'])\n",
        "\n",
        "test = pd.read_csv('/content/ta-misogyny_test-dev - ta-misogyny-dev (1).csv', usecols=['Category','Text'])"
      ]
    },
    {
      "cell_type": "code",
      "execution_count": null,
      "metadata": {
        "colab": {
          "base_uri": "https://localhost:8080/",
          "height": 206
        },
        "id": "u0tQ5VBBRhBV",
        "outputId": "7c37e52c-34d2-4c75-883e-c6a7aef2df18"
      },
      "outputs": [
        {
          "data": {
            "text/html": [
              "\n",
              "  <div id=\"df-5e63f683-d1dd-4fee-89ac-45559a27d2be\">\n",
              "    <div class=\"colab-df-container\">\n",
              "      <div>\n",
              "<style scoped>\n",
              "    .dataframe tbody tr th:only-of-type {\n",
              "        vertical-align: middle;\n",
              "    }\n",
              "\n",
              "    .dataframe tbody tr th {\n",
              "        vertical-align: top;\n",
              "    }\n",
              "\n",
              "    .dataframe thead th {\n",
              "        text-align: right;\n",
              "    }\n",
              "</style>\n",
              "<table border=\"1\" class=\"dataframe\">\n",
              "  <thead>\n",
              "    <tr style=\"text-align: right;\">\n",
              "      <th></th>\n",
              "      <th>Category</th>\n",
              "      <th>Text</th>\n",
              "    </tr>\n",
              "  </thead>\n",
              "  <tbody>\n",
              "    <tr>\n",
              "      <th>0</th>\n",
              "      <td>Hope-Speech</td>\n",
              "      <td>உங்கள் பேச்சை எதிர்பார்த்தேன். நல்ல விளக்கம்  ...</td>\n",
              "    </tr>\n",
              "    <tr>\n",
              "      <th>1</th>\n",
              "      <td>None-of-the-above</td>\n",
              "      <td>எச். ராசாவால் இராமருக்கே  இழிவு. இவர் எல்லாம் ...</td>\n",
              "    </tr>\n",
              "    <tr>\n",
              "      <th>2</th>\n",
              "      <td>None-of-the-above</td>\n",
              "      <td>கல்யாணம்னு  வரும்போது தான் சாதி முக்கியம் எங்க...</td>\n",
              "    </tr>\n",
              "    <tr>\n",
              "      <th>3</th>\n",
              "      <td>None-of-the-above</td>\n",
              "      <td>Tentu Kottai ஐயா நான் தமிழ் இந்து.</td>\n",
              "    </tr>\n",
              "    <tr>\n",
              "      <th>4</th>\n",
              "      <td>Homophobia</td>\n",
              "      <td>Tamil selvan  அடே தேவடியாவுக்கு பிரந்தவனே பச்ச...</td>\n",
              "    </tr>\n",
              "  </tbody>\n",
              "</table>\n",
              "</div>\n",
              "      <button class=\"colab-df-convert\" onclick=\"convertToInteractive('df-5e63f683-d1dd-4fee-89ac-45559a27d2be')\"\n",
              "              title=\"Convert this dataframe to an interactive table.\"\n",
              "              style=\"display:none;\">\n",
              "        \n",
              "  <svg xmlns=\"http://www.w3.org/2000/svg\" height=\"24px\"viewBox=\"0 0 24 24\"\n",
              "       width=\"24px\">\n",
              "    <path d=\"M0 0h24v24H0V0z\" fill=\"none\"/>\n",
              "    <path d=\"M18.56 5.44l.94 2.06.94-2.06 2.06-.94-2.06-.94-.94-2.06-.94 2.06-2.06.94zm-11 1L8.5 8.5l.94-2.06 2.06-.94-2.06-.94L8.5 2.5l-.94 2.06-2.06.94zm10 10l.94 2.06.94-2.06 2.06-.94-2.06-.94-.94-2.06-.94 2.06-2.06.94z\"/><path d=\"M17.41 7.96l-1.37-1.37c-.4-.4-.92-.59-1.43-.59-.52 0-1.04.2-1.43.59L10.3 9.45l-7.72 7.72c-.78.78-.78 2.05 0 2.83L4 21.41c.39.39.9.59 1.41.59.51 0 1.02-.2 1.41-.59l7.78-7.78 2.81-2.81c.8-.78.8-2.07 0-2.86zM5.41 20L4 18.59l7.72-7.72 1.47 1.35L5.41 20z\"/>\n",
              "  </svg>\n",
              "      </button>\n",
              "      \n",
              "  <style>\n",
              "    .colab-df-container {\n",
              "      display:flex;\n",
              "      flex-wrap:wrap;\n",
              "      gap: 12px;\n",
              "    }\n",
              "\n",
              "    .colab-df-convert {\n",
              "      background-color: #E8F0FE;\n",
              "      border: none;\n",
              "      border-radius: 50%;\n",
              "      cursor: pointer;\n",
              "      display: none;\n",
              "      fill: #1967D2;\n",
              "      height: 32px;\n",
              "      padding: 0 0 0 0;\n",
              "      width: 32px;\n",
              "    }\n",
              "\n",
              "    .colab-df-convert:hover {\n",
              "      background-color: #E2EBFA;\n",
              "      box-shadow: 0px 1px 2px rgba(60, 64, 67, 0.3), 0px 1px 3px 1px rgba(60, 64, 67, 0.15);\n",
              "      fill: #174EA6;\n",
              "    }\n",
              "\n",
              "    [theme=dark] .colab-df-convert {\n",
              "      background-color: #3B4455;\n",
              "      fill: #D2E3FC;\n",
              "    }\n",
              "\n",
              "    [theme=dark] .colab-df-convert:hover {\n",
              "      background-color: #434B5C;\n",
              "      box-shadow: 0px 1px 3px 1px rgba(0, 0, 0, 0.15);\n",
              "      filter: drop-shadow(0px 1px 2px rgba(0, 0, 0, 0.3));\n",
              "      fill: #FFFFFF;\n",
              "    }\n",
              "  </style>\n",
              "\n",
              "      <script>\n",
              "        const buttonEl =\n",
              "          document.querySelector('#df-5e63f683-d1dd-4fee-89ac-45559a27d2be button.colab-df-convert');\n",
              "        buttonEl.style.display =\n",
              "          google.colab.kernel.accessAllowed ? 'block' : 'none';\n",
              "\n",
              "        async function convertToInteractive(key) {\n",
              "          const element = document.querySelector('#df-5e63f683-d1dd-4fee-89ac-45559a27d2be');\n",
              "          const dataTable =\n",
              "            await google.colab.kernel.invokeFunction('convertToInteractive',\n",
              "                                                     [key], {});\n",
              "          if (!dataTable) return;\n",
              "\n",
              "          const docLinkHtml = 'Like what you see? Visit the ' +\n",
              "            '<a target=\"_blank\" href=https://colab.research.google.com/notebooks/data_table.ipynb>data table notebook</a>'\n",
              "            + ' to learn more about interactive tables.';\n",
              "          element.innerHTML = '';\n",
              "          dataTable['output_type'] = 'display_data';\n",
              "          await google.colab.output.renderOutput(dataTable, element);\n",
              "          const docLink = document.createElement('div');\n",
              "          docLink.innerHTML = docLinkHtml;\n",
              "          element.appendChild(docLink);\n",
              "        }\n",
              "      </script>\n",
              "    </div>\n",
              "  </div>\n",
              "  "
            ],
            "text/plain": [
              "            Category                                               Text\n",
              "0        Hope-Speech  உங்கள் பேச்சை எதிர்பார்த்தேன். நல்ல விளக்கம்  ...\n",
              "1  None-of-the-above  எச். ராசாவால் இராமருக்கே  இழிவு. இவர் எல்லாம் ...\n",
              "2  None-of-the-above  கல்யாணம்னு  வரும்போது தான் சாதி முக்கியம் எங்க...\n",
              "3  None-of-the-above                 Tentu Kottai ஐயா நான் தமிழ் இந்து.\n",
              "4         Homophobia  Tamil selvan  அடே தேவடியாவுக்கு பிரந்தவனே பச்ச..."
            ]
          },
          "execution_count": 20,
          "metadata": {},
          "output_type": "execute_result"
        }
      ],
      "source": [
        "train.head()"
      ]
    },
    {
      "cell_type": "code",
      "execution_count": null,
      "metadata": {
        "colab": {
          "base_uri": "https://localhost:8080/",
          "height": 206
        },
        "id": "juJfn88E3Y7z",
        "outputId": "af644606-36bf-43cb-f393-b75ddfacc424"
      },
      "outputs": [
        {
          "data": {
            "text/html": [
              "\n",
              "  <div id=\"df-2870dcbc-85b3-42f2-a92e-a055275dd01e\">\n",
              "    <div class=\"colab-df-container\">\n",
              "      <div>\n",
              "<style scoped>\n",
              "    .dataframe tbody tr th:only-of-type {\n",
              "        vertical-align: middle;\n",
              "    }\n",
              "\n",
              "    .dataframe tbody tr th {\n",
              "        vertical-align: top;\n",
              "    }\n",
              "\n",
              "    .dataframe thead th {\n",
              "        text-align: right;\n",
              "    }\n",
              "</style>\n",
              "<table border=\"1\" class=\"dataframe\">\n",
              "  <thead>\n",
              "    <tr style=\"text-align: right;\">\n",
              "      <th></th>\n",
              "      <th>Category</th>\n",
              "      <th>Text</th>\n",
              "    </tr>\n",
              "  </thead>\n",
              "  <tbody>\n",
              "    <tr>\n",
              "      <th>0</th>\n",
              "      <td>Counter-speech</td>\n",
              "      <td>தகுதிக்கு ஏற்றார் போல் பெண் அல்லது மாப்பிளை பா...</td>\n",
              "    </tr>\n",
              "    <tr>\n",
              "      <th>1</th>\n",
              "      <td>Counter-speech</td>\n",
              "      <td>கேவலமான சமஸ்கிருத கல்யாண மந்திரங்கள். நான் ஹிந...</td>\n",
              "    </tr>\n",
              "    <tr>\n",
              "      <th>2</th>\n",
              "      <td>Counter-speech</td>\n",
              "      <td>பிராமணர்களில் எத்தனையோ நல்லவர்கள் இருக்கிறார்க...</td>\n",
              "    </tr>\n",
              "    <tr>\n",
              "      <th>3</th>\n",
              "      <td>Counter-speech</td>\n",
              "      <td>youtube  பாக்குற யாரும் vote போடா போறதில்லையோ ...</td>\n",
              "    </tr>\n",
              "    <tr>\n",
              "      <th>4</th>\n",
              "      <td>Counter-speech</td>\n",
              "      <td>வருண் அம்மா மட்டும் இல்ல. இங்கு பலர் பயப்படுவத...</td>\n",
              "    </tr>\n",
              "  </tbody>\n",
              "</table>\n",
              "</div>\n",
              "      <button class=\"colab-df-convert\" onclick=\"convertToInteractive('df-2870dcbc-85b3-42f2-a92e-a055275dd01e')\"\n",
              "              title=\"Convert this dataframe to an interactive table.\"\n",
              "              style=\"display:none;\">\n",
              "        \n",
              "  <svg xmlns=\"http://www.w3.org/2000/svg\" height=\"24px\"viewBox=\"0 0 24 24\"\n",
              "       width=\"24px\">\n",
              "    <path d=\"M0 0h24v24H0V0z\" fill=\"none\"/>\n",
              "    <path d=\"M18.56 5.44l.94 2.06.94-2.06 2.06-.94-2.06-.94-.94-2.06-.94 2.06-2.06.94zm-11 1L8.5 8.5l.94-2.06 2.06-.94-2.06-.94L8.5 2.5l-.94 2.06-2.06.94zm10 10l.94 2.06.94-2.06 2.06-.94-2.06-.94-.94-2.06-.94 2.06-2.06.94z\"/><path d=\"M17.41 7.96l-1.37-1.37c-.4-.4-.92-.59-1.43-.59-.52 0-1.04.2-1.43.59L10.3 9.45l-7.72 7.72c-.78.78-.78 2.05 0 2.83L4 21.41c.39.39.9.59 1.41.59.51 0 1.02-.2 1.41-.59l7.78-7.78 2.81-2.81c.8-.78.8-2.07 0-2.86zM5.41 20L4 18.59l7.72-7.72 1.47 1.35L5.41 20z\"/>\n",
              "  </svg>\n",
              "      </button>\n",
              "      \n",
              "  <style>\n",
              "    .colab-df-container {\n",
              "      display:flex;\n",
              "      flex-wrap:wrap;\n",
              "      gap: 12px;\n",
              "    }\n",
              "\n",
              "    .colab-df-convert {\n",
              "      background-color: #E8F0FE;\n",
              "      border: none;\n",
              "      border-radius: 50%;\n",
              "      cursor: pointer;\n",
              "      display: none;\n",
              "      fill: #1967D2;\n",
              "      height: 32px;\n",
              "      padding: 0 0 0 0;\n",
              "      width: 32px;\n",
              "    }\n",
              "\n",
              "    .colab-df-convert:hover {\n",
              "      background-color: #E2EBFA;\n",
              "      box-shadow: 0px 1px 2px rgba(60, 64, 67, 0.3), 0px 1px 3px 1px rgba(60, 64, 67, 0.15);\n",
              "      fill: #174EA6;\n",
              "    }\n",
              "\n",
              "    [theme=dark] .colab-df-convert {\n",
              "      background-color: #3B4455;\n",
              "      fill: #D2E3FC;\n",
              "    }\n",
              "\n",
              "    [theme=dark] .colab-df-convert:hover {\n",
              "      background-color: #434B5C;\n",
              "      box-shadow: 0px 1px 3px 1px rgba(0, 0, 0, 0.15);\n",
              "      filter: drop-shadow(0px 1px 2px rgba(0, 0, 0, 0.3));\n",
              "      fill: #FFFFFF;\n",
              "    }\n",
              "  </style>\n",
              "\n",
              "      <script>\n",
              "        const buttonEl =\n",
              "          document.querySelector('#df-2870dcbc-85b3-42f2-a92e-a055275dd01e button.colab-df-convert');\n",
              "        buttonEl.style.display =\n",
              "          google.colab.kernel.accessAllowed ? 'block' : 'none';\n",
              "\n",
              "        async function convertToInteractive(key) {\n",
              "          const element = document.querySelector('#df-2870dcbc-85b3-42f2-a92e-a055275dd01e');\n",
              "          const dataTable =\n",
              "            await google.colab.kernel.invokeFunction('convertToInteractive',\n",
              "                                                     [key], {});\n",
              "          if (!dataTable) return;\n",
              "\n",
              "          const docLinkHtml = 'Like what you see? Visit the ' +\n",
              "            '<a target=\"_blank\" href=https://colab.research.google.com/notebooks/data_table.ipynb>data table notebook</a>'\n",
              "            + ' to learn more about interactive tables.';\n",
              "          element.innerHTML = '';\n",
              "          dataTable['output_type'] = 'display_data';\n",
              "          await google.colab.output.renderOutput(dataTable, element);\n",
              "          const docLink = document.createElement('div');\n",
              "          docLink.innerHTML = docLinkHtml;\n",
              "          element.appendChild(docLink);\n",
              "        }\n",
              "      </script>\n",
              "    </div>\n",
              "  </div>\n",
              "  "
            ],
            "text/plain": [
              "         Category                                               Text\n",
              "0  Counter-speech  தகுதிக்கு ஏற்றார் போல் பெண் அல்லது மாப்பிளை பா...\n",
              "1  Counter-speech  கேவலமான சமஸ்கிருத கல்யாண மந்திரங்கள். நான் ஹிந...\n",
              "2  Counter-speech  பிராமணர்களில் எத்தனையோ நல்லவர்கள் இருக்கிறார்க...\n",
              "3  Counter-speech  youtube  பாக்குற யாரும் vote போடா போறதில்லையோ ...\n",
              "4  Counter-speech  வருண் அம்மா மட்டும் இல்ல. இங்கு பலர் பயப்படுவத..."
            ]
          },
          "execution_count": 21,
          "metadata": {},
          "output_type": "execute_result"
        }
      ],
      "source": [
        "test.head()"
      ]
    },
    {
      "cell_type": "code",
      "execution_count": null,
      "metadata": {
        "colab": {
          "base_uri": "https://localhost:8080/",
          "height": 206
        },
        "id": "xpdYhy5aRhE3",
        "outputId": "705b10aa-9db0-4d12-ef4a-88e317370ce7"
      },
      "outputs": [
        {
          "data": {
            "text/html": [
              "\n",
              "  <div id=\"df-20676d25-b0de-4548-b6d4-4911b39649c3\">\n",
              "    <div class=\"colab-df-container\">\n",
              "      <div>\n",
              "<style scoped>\n",
              "    .dataframe tbody tr th:only-of-type {\n",
              "        vertical-align: middle;\n",
              "    }\n",
              "\n",
              "    .dataframe tbody tr th {\n",
              "        vertical-align: top;\n",
              "    }\n",
              "\n",
              "    .dataframe thead th {\n",
              "        text-align: right;\n",
              "    }\n",
              "</style>\n",
              "<table border=\"1\" class=\"dataframe\">\n",
              "  <thead>\n",
              "    <tr style=\"text-align: right;\">\n",
              "      <th></th>\n",
              "      <th>Category</th>\n",
              "      <th>Text</th>\n",
              "    </tr>\n",
              "  </thead>\n",
              "  <tbody>\n",
              "    <tr>\n",
              "      <th>0</th>\n",
              "      <td>None-of-the-above</td>\n",
              "      <td>Ada பாவிகளா அந்த மனுசன் சரியா தான் சொள்ளிருக்க...</td>\n",
              "    </tr>\n",
              "    <tr>\n",
              "      <th>1</th>\n",
              "      <td>Misogyny</td>\n",
              "      <td>இவங்களே குடும்பாங்களாம் அப்புறம் இவங்களே வரதட்...</td>\n",
              "    </tr>\n",
              "    <tr>\n",
              "      <th>2</th>\n",
              "      <td>Misandry</td>\n",
              "      <td>பொது மேடையில் பேச தகுதி இல்லாதவன் ராஜா</td>\n",
              "    </tr>\n",
              "    <tr>\n",
              "      <th>3</th>\n",
              "      <td>None-of-the-above</td>\n",
              "      <td>சீனிவாசன் மனித குலத்திற்க்கு கிடைத்த அரிய பொக்...</td>\n",
              "    </tr>\n",
              "    <tr>\n",
              "      <th>4</th>\n",
              "      <td>Xenophobia</td>\n",
              "      <td>கைபர் கணவாய் வழியாக வந்தீர்கள் நீ இந்தியன் இல்லை</td>\n",
              "    </tr>\n",
              "  </tbody>\n",
              "</table>\n",
              "</div>\n",
              "      <button class=\"colab-df-convert\" onclick=\"convertToInteractive('df-20676d25-b0de-4548-b6d4-4911b39649c3')\"\n",
              "              title=\"Convert this dataframe to an interactive table.\"\n",
              "              style=\"display:none;\">\n",
              "        \n",
              "  <svg xmlns=\"http://www.w3.org/2000/svg\" height=\"24px\"viewBox=\"0 0 24 24\"\n",
              "       width=\"24px\">\n",
              "    <path d=\"M0 0h24v24H0V0z\" fill=\"none\"/>\n",
              "    <path d=\"M18.56 5.44l.94 2.06.94-2.06 2.06-.94-2.06-.94-.94-2.06-.94 2.06-2.06.94zm-11 1L8.5 8.5l.94-2.06 2.06-.94-2.06-.94L8.5 2.5l-.94 2.06-2.06.94zm10 10l.94 2.06.94-2.06 2.06-.94-2.06-.94-.94-2.06-.94 2.06-2.06.94z\"/><path d=\"M17.41 7.96l-1.37-1.37c-.4-.4-.92-.59-1.43-.59-.52 0-1.04.2-1.43.59L10.3 9.45l-7.72 7.72c-.78.78-.78 2.05 0 2.83L4 21.41c.39.39.9.59 1.41.59.51 0 1.02-.2 1.41-.59l7.78-7.78 2.81-2.81c.8-.78.8-2.07 0-2.86zM5.41 20L4 18.59l7.72-7.72 1.47 1.35L5.41 20z\"/>\n",
              "  </svg>\n",
              "      </button>\n",
              "      \n",
              "  <style>\n",
              "    .colab-df-container {\n",
              "      display:flex;\n",
              "      flex-wrap:wrap;\n",
              "      gap: 12px;\n",
              "    }\n",
              "\n",
              "    .colab-df-convert {\n",
              "      background-color: #E8F0FE;\n",
              "      border: none;\n",
              "      border-radius: 50%;\n",
              "      cursor: pointer;\n",
              "      display: none;\n",
              "      fill: #1967D2;\n",
              "      height: 32px;\n",
              "      padding: 0 0 0 0;\n",
              "      width: 32px;\n",
              "    }\n",
              "\n",
              "    .colab-df-convert:hover {\n",
              "      background-color: #E2EBFA;\n",
              "      box-shadow: 0px 1px 2px rgba(60, 64, 67, 0.3), 0px 1px 3px 1px rgba(60, 64, 67, 0.15);\n",
              "      fill: #174EA6;\n",
              "    }\n",
              "\n",
              "    [theme=dark] .colab-df-convert {\n",
              "      background-color: #3B4455;\n",
              "      fill: #D2E3FC;\n",
              "    }\n",
              "\n",
              "    [theme=dark] .colab-df-convert:hover {\n",
              "      background-color: #434B5C;\n",
              "      box-shadow: 0px 1px 3px 1px rgba(0, 0, 0, 0.15);\n",
              "      filter: drop-shadow(0px 1px 2px rgba(0, 0, 0, 0.3));\n",
              "      fill: #FFFFFF;\n",
              "    }\n",
              "  </style>\n",
              "\n",
              "      <script>\n",
              "        const buttonEl =\n",
              "          document.querySelector('#df-20676d25-b0de-4548-b6d4-4911b39649c3 button.colab-df-convert');\n",
              "        buttonEl.style.display =\n",
              "          google.colab.kernel.accessAllowed ? 'block' : 'none';\n",
              "\n",
              "        async function convertToInteractive(key) {\n",
              "          const element = document.querySelector('#df-20676d25-b0de-4548-b6d4-4911b39649c3');\n",
              "          const dataTable =\n",
              "            await google.colab.kernel.invokeFunction('convertToInteractive',\n",
              "                                                     [key], {});\n",
              "          if (!dataTable) return;\n",
              "\n",
              "          const docLinkHtml = 'Like what you see? Visit the ' +\n",
              "            '<a target=\"_blank\" href=https://colab.research.google.com/notebooks/data_table.ipynb>data table notebook</a>'\n",
              "            + ' to learn more about interactive tables.';\n",
              "          element.innerHTML = '';\n",
              "          dataTable['output_type'] = 'display_data';\n",
              "          await google.colab.output.renderOutput(dataTable, element);\n",
              "          const docLink = document.createElement('div');\n",
              "          docLink.innerHTML = docLinkHtml;\n",
              "          element.appendChild(docLink);\n",
              "        }\n",
              "      </script>\n",
              "    </div>\n",
              "  </div>\n",
              "  "
            ],
            "text/plain": [
              "            Category                                               Text\n",
              "0  None-of-the-above  Ada பாவிகளா அந்த மனுசன் சரியா தான் சொள்ளிருக்க...\n",
              "1           Misogyny  இவங்களே குடும்பாங்களாம் அப்புறம் இவங்களே வரதட்...\n",
              "2           Misandry             பொது மேடையில் பேச தகுதி இல்லாதவன் ராஜா\n",
              "3  None-of-the-above  சீனிவாசன் மனித குலத்திற்க்கு கிடைத்த அரிய பொக்...\n",
              "4         Xenophobia   கைபர் கணவாய் வழியாக வந்தீர்கள் நீ இந்தியன் இல்லை"
            ]
          },
          "execution_count": 22,
          "metadata": {},
          "output_type": "execute_result"
        }
      ],
      "source": [
        "val.head()"
      ]
    },
    {
      "cell_type": "code",
      "execution_count": null,
      "metadata": {
        "colab": {
          "base_uri": "https://localhost:8080/",
          "height": 206
        },
        "id": "-Nhp0zcfRhKL",
        "outputId": "aed3cf8e-8549-4a69-ad08-3688d19e43cc"
      },
      "outputs": [
        {
          "data": {
            "text/html": [
              "\n",
              "  <div id=\"df-0c1f6e68-cf7a-49e1-a952-9cc08b6297fd\">\n",
              "    <div class=\"colab-df-container\">\n",
              "      <div>\n",
              "<style scoped>\n",
              "    .dataframe tbody tr th:only-of-type {\n",
              "        vertical-align: middle;\n",
              "    }\n",
              "\n",
              "    .dataframe tbody tr th {\n",
              "        vertical-align: top;\n",
              "    }\n",
              "\n",
              "    .dataframe thead th {\n",
              "        text-align: right;\n",
              "    }\n",
              "</style>\n",
              "<table border=\"1\" class=\"dataframe\">\n",
              "  <thead>\n",
              "    <tr style=\"text-align: right;\">\n",
              "      <th></th>\n",
              "      <th>Category</th>\n",
              "      <th>Text</th>\n",
              "    </tr>\n",
              "  </thead>\n",
              "  <tbody>\n",
              "    <tr>\n",
              "      <th>0</th>\n",
              "      <td>Counter-speech</td>\n",
              "      <td>தகுதிக்கு ஏற்றார் போல் பெண் அல்லது மாப்பிளை பா...</td>\n",
              "    </tr>\n",
              "    <tr>\n",
              "      <th>1</th>\n",
              "      <td>Counter-speech</td>\n",
              "      <td>கேவலமான சமஸ்கிருத கல்யாண மந்திரங்கள். நான் ஹிந...</td>\n",
              "    </tr>\n",
              "    <tr>\n",
              "      <th>2</th>\n",
              "      <td>Counter-speech</td>\n",
              "      <td>பிராமணர்களில் எத்தனையோ நல்லவர்கள் இருக்கிறார்க...</td>\n",
              "    </tr>\n",
              "    <tr>\n",
              "      <th>3</th>\n",
              "      <td>Counter-speech</td>\n",
              "      <td>youtube  பாக்குற யாரும் vote போடா போறதில்லையோ ...</td>\n",
              "    </tr>\n",
              "    <tr>\n",
              "      <th>4</th>\n",
              "      <td>Counter-speech</td>\n",
              "      <td>வருண் அம்மா மட்டும் இல்ல. இங்கு பலர் பயப்படுவத...</td>\n",
              "    </tr>\n",
              "  </tbody>\n",
              "</table>\n",
              "</div>\n",
              "      <button class=\"colab-df-convert\" onclick=\"convertToInteractive('df-0c1f6e68-cf7a-49e1-a952-9cc08b6297fd')\"\n",
              "              title=\"Convert this dataframe to an interactive table.\"\n",
              "              style=\"display:none;\">\n",
              "        \n",
              "  <svg xmlns=\"http://www.w3.org/2000/svg\" height=\"24px\"viewBox=\"0 0 24 24\"\n",
              "       width=\"24px\">\n",
              "    <path d=\"M0 0h24v24H0V0z\" fill=\"none\"/>\n",
              "    <path d=\"M18.56 5.44l.94 2.06.94-2.06 2.06-.94-2.06-.94-.94-2.06-.94 2.06-2.06.94zm-11 1L8.5 8.5l.94-2.06 2.06-.94-2.06-.94L8.5 2.5l-.94 2.06-2.06.94zm10 10l.94 2.06.94-2.06 2.06-.94-2.06-.94-.94-2.06-.94 2.06-2.06.94z\"/><path d=\"M17.41 7.96l-1.37-1.37c-.4-.4-.92-.59-1.43-.59-.52 0-1.04.2-1.43.59L10.3 9.45l-7.72 7.72c-.78.78-.78 2.05 0 2.83L4 21.41c.39.39.9.59 1.41.59.51 0 1.02-.2 1.41-.59l7.78-7.78 2.81-2.81c.8-.78.8-2.07 0-2.86zM5.41 20L4 18.59l7.72-7.72 1.47 1.35L5.41 20z\"/>\n",
              "  </svg>\n",
              "      </button>\n",
              "      \n",
              "  <style>\n",
              "    .colab-df-container {\n",
              "      display:flex;\n",
              "      flex-wrap:wrap;\n",
              "      gap: 12px;\n",
              "    }\n",
              "\n",
              "    .colab-df-convert {\n",
              "      background-color: #E8F0FE;\n",
              "      border: none;\n",
              "      border-radius: 50%;\n",
              "      cursor: pointer;\n",
              "      display: none;\n",
              "      fill: #1967D2;\n",
              "      height: 32px;\n",
              "      padding: 0 0 0 0;\n",
              "      width: 32px;\n",
              "    }\n",
              "\n",
              "    .colab-df-convert:hover {\n",
              "      background-color: #E2EBFA;\n",
              "      box-shadow: 0px 1px 2px rgba(60, 64, 67, 0.3), 0px 1px 3px 1px rgba(60, 64, 67, 0.15);\n",
              "      fill: #174EA6;\n",
              "    }\n",
              "\n",
              "    [theme=dark] .colab-df-convert {\n",
              "      background-color: #3B4455;\n",
              "      fill: #D2E3FC;\n",
              "    }\n",
              "\n",
              "    [theme=dark] .colab-df-convert:hover {\n",
              "      background-color: #434B5C;\n",
              "      box-shadow: 0px 1px 3px 1px rgba(0, 0, 0, 0.15);\n",
              "      filter: drop-shadow(0px 1px 2px rgba(0, 0, 0, 0.3));\n",
              "      fill: #FFFFFF;\n",
              "    }\n",
              "  </style>\n",
              "\n",
              "      <script>\n",
              "        const buttonEl =\n",
              "          document.querySelector('#df-0c1f6e68-cf7a-49e1-a952-9cc08b6297fd button.colab-df-convert');\n",
              "        buttonEl.style.display =\n",
              "          google.colab.kernel.accessAllowed ? 'block' : 'none';\n",
              "\n",
              "        async function convertToInteractive(key) {\n",
              "          const element = document.querySelector('#df-0c1f6e68-cf7a-49e1-a952-9cc08b6297fd');\n",
              "          const dataTable =\n",
              "            await google.colab.kernel.invokeFunction('convertToInteractive',\n",
              "                                                     [key], {});\n",
              "          if (!dataTable) return;\n",
              "\n",
              "          const docLinkHtml = 'Like what you see? Visit the ' +\n",
              "            '<a target=\"_blank\" href=https://colab.research.google.com/notebooks/data_table.ipynb>data table notebook</a>'\n",
              "            + ' to learn more about interactive tables.';\n",
              "          element.innerHTML = '';\n",
              "          dataTable['output_type'] = 'display_data';\n",
              "          await google.colab.output.renderOutput(dataTable, element);\n",
              "          const docLink = document.createElement('div');\n",
              "          docLink.innerHTML = docLinkHtml;\n",
              "          element.appendChild(docLink);\n",
              "        }\n",
              "      </script>\n",
              "    </div>\n",
              "  </div>\n",
              "  "
            ],
            "text/plain": [
              "         Category                                               Text\n",
              "0  Counter-speech  தகுதிக்கு ஏற்றார் போல் பெண் அல்லது மாப்பிளை பா...\n",
              "1  Counter-speech  கேவலமான சமஸ்கிருத கல்யாண மந்திரங்கள். நான் ஹிந...\n",
              "2  Counter-speech  பிராமணர்களில் எத்தனையோ நல்லவர்கள் இருக்கிறார்க...\n",
              "3  Counter-speech  youtube  பாக்குற யாரும் vote போடா போறதில்லையோ ...\n",
              "4  Counter-speech  வருண் அம்மா மட்டும் இல்ல. இங்கு பலர் பயப்படுவத..."
            ]
          },
          "execution_count": 23,
          "metadata": {},
          "output_type": "execute_result"
        }
      ],
      "source": [
        "test.head()"
      ]
    },
    {
      "cell_type": "code",
      "execution_count": null,
      "metadata": {
        "colab": {
          "base_uri": "https://localhost:8080/"
        },
        "id": "7n0yNe7epwRi",
        "outputId": "1cdc4073-027b-4dad-da84-298bf7f1c0ad"
      },
      "outputs": [
        {
          "data": {
            "text/plain": [
              "None-of-the-above    1161\n",
              "Misandry              389\n",
              "Counter-speech        136\n",
              "Misogyny              111\n",
              "Xenophobia             88\n",
              "Hope-Speech            76\n",
              "Homophobia             31\n",
              "Transphobic             5\n",
              "Not-Tamil               2\n",
              "Name: Category, dtype: int64"
            ]
          },
          "execution_count": 24,
          "metadata": {},
          "output_type": "execute_result"
        }
      ],
      "source": [
        "train.Category.value_counts()"
      ]
    },
    {
      "cell_type": "code",
      "execution_count": null,
      "metadata": {
        "colab": {
          "base_uri": "https://localhost:8080/",
          "height": 337
        },
        "id": "3WxPql4lRo3c",
        "outputId": "25d73fd6-a7c0-467f-f4a5-30db4fe51dee"
      },
      "outputs": [
        {
          "name": "stdout",
          "output_type": "stream",
          "text": [
            "Train dataset graph\n"
          ]
        },
        {
          "data": {
            "image/png": "[encoded data removed]",
            "text/plain": [
              "<Figure size 720x360 with 1 Axes>"
            ]
          },
          "metadata": {},
          "output_type": "display_data"
        }
      ],
      "source": [
        "from matplotlib import style\n",
        "print(\"Train dataset graph\")\n",
        "plt.figure(figsize=(10,5))\n",
        "style.use('ggplot')\n",
        "plt.bar(['Misandry','Counter-speech','Misogyny ','Xenophobia','Hope-Speech','Homophobia','Transphobic','Not-Tamil'], height=[train['Category'].value_counts()['Misandry'], train['Category'].value_counts()['Counter-speech'],train['Category'].value_counts()['Misogyny'],train['Category'].value_counts()['Xenophobia'],train['Category'].value_counts()['Hope-Speech'],train['Category'].value_counts()['Homophobia'],train['Category'].value_counts()['Transphobic'],train['Category'].value_counts()['Not-Tamil']], color='b')\n",
        "plt.show()"
      ]
    },
    {
      "cell_type": "code",
      "execution_count": null,
      "metadata": {
        "colab": {
          "base_uri": "https://localhost:8080/"
        },
        "id": "EU7pzwF8RPOM",
        "outputId": "c84183cf-9045-4b89-c234-d8256605cee5"
      },
      "outputs": [
        {
          "data": {
            "text/plain": [
              "None-of-the-above    346\n",
              "Misandry             104\n",
              "Counter-speech        36\n",
              "Xenophobia            29\n",
              "Misogyny              24\n",
              "Hope-Speech           11\n",
              "Homophobia             8\n",
              "Transphobic            2\n",
              "Not-Tamil              1\n",
              "Name: Category, dtype: int64"
            ]
          },
          "execution_count": 26,
          "metadata": {},
          "output_type": "execute_result"
        }
      ],
      "source": [
        "test.Category.value_counts()"
      ]
    },
    {
      "cell_type": "code",
      "execution_count": null,
      "metadata": {
        "colab": {
          "base_uri": "https://localhost:8080/",
          "height": 337
        },
        "id": "hslLRHtoRrLu",
        "outputId": "40d8c423-6c8f-4199-f0fe-a95273836275"
      },
      "outputs": [
        {
          "name": "stdout",
          "output_type": "stream",
          "text": [
            "Test dataset graph\n"
          ]
        },
        {
          "data": {
            "image/png": "[encoded data removed]",
            "text/plain": [
              "<Figure size 720x360 with 1 Axes>"
            ]
          },
          "metadata": {},
          "output_type": "display_data"
        }
      ],
      "source": [
        "from matplotlib import style\n",
        "print(\"Test dataset graph\")\n",
        "plt.figure(figsize=(10,5))\n",
        "style.use('ggplot')\n",
        "plt.bar(['Misandry','Counter-speech','Misogyny ','Xenophobia','Hope-Speech','Homophobia','Transphobic','Not-Tamil'], height=[train['Category'].value_counts()['Misandry'], train['Category'].value_counts()['Counter-speech'],train['Category'].value_counts()['Misogyny'],train['Category'].value_counts()['Xenophobia'],train['Category'].value_counts()['Hope-Speech'],train['Category'].value_counts()['Homophobia'],train['Category'].value_counts()['Transphobic'],train['Category'].value_counts()['Not-Tamil']], color='g')\n",
        "plt.show()"
      ]
    },
    {
      "cell_type": "code",
      "execution_count": null,
      "metadata": {
        "id": "MaMla7mspyiP"
      },
      "outputs": [],
      "source": [
        "def remove_emoji(text):\n",
        "    emoji_pattern = re.compile(\"[\"\n",
        "                           u\"\\U0001F600-\\U0001F64F\"  # emoticons\n",
        "                           u\"\\U0001F300-\\U0001F5FF\"  # symbols & pictographs\n",
        "                           u\"\\U0001F680-\\U0001F6FF\"  # transport & map symbols\n",
        "                           u\"\\U0001F1E0-\\U0001F1FF\"  # flags (iOS)\n",
        "                           u\"\\U00002702-\\U000027B0\"\n",
        "                           u\"\\U000024C2-\\U0001F251\"\n",
        "                           u\"\\U0001f926-\\U0001f937\"\n",
        "                           u\"\\U00010000-\\U0010ffff\"\n",
        "                           u\"\\u2640-\\u2642\"\n",
        "                          u\"\\u2600-\\u2B55\"\n",
        "                         u\"\\u200d\"\n",
        "                            u\"\\u23cf\"\n",
        "                               u\"\\u23e9\"\n",
        "                               u\"\\u231a\"\n",
        "                               u\"\\ufe0f\"  # dingbats\n",
        "                               u\"\\u3030\"\n",
        "                           \"]+\", flags=re.UNICODE)\n",
        "\n",
        "    return emoji_pattern.sub(r'', text)\n",
        "def clean(text):\n",
        "    remv_punc = [char for char in text.lower() if char not in string.punctuation]\n",
        "    remv_punc_join = ''.join(remv_punc)\n",
        "\n",
        "    return remv_punc_join\n",
        "\n",
        "def plot_confusion_matrix(cm, classes,\n",
        "                          normalize=False,\n",
        "                          title='Actual labels',\n",
        "                          cmap=plt.cm.Blues):\n",
        "    \"\"\"\n",
        "    See full source and example:\n",
        "    http://scikit-learn.org/stable/auto_examples/model_selection/plot_confusion_matrix.html\n",
        "\n",
        "    This function prints and plots the confusion matrix.\n",
        "    Normalization can be applied by setting `normalize=True`.\n",
        "    \"\"\"\n",
        "    plt.imshow(cm, interpolation='nearest', cmap=cmap)\n",
        "    plt.title(title)\n",
        "    plt.colorbar()\n",
        "    tick_marks = np.arange(len(classes))\n",
        "    plt.xticks(tick_marks, classes, rotation=45)\n",
        "    plt.yticks(tick_marks, classes)\n",
        "\n",
        "    if normalize:\n",
        "        cm = cm.astype('float') / cm.sum(axis=1)[:, np.newaxis]\n",
        "        print(\"Normalized confusion matrix\")\n",
        "    else:\n",
        "        print('Confusion matrix, without normalization')\n",
        "\n",
        "    thresh = cm.max() / 2.\n",
        "    for i, j in itertools.product(range(cm.shape[0]), range(cm.shape[1])):\n",
        "        plt.text(j, i, cm[i, j],\n",
        "                 horizontalalignment=\"center\",\n",
        "                 color=\"white\" if cm[i, j] > thresh else \"black\")\n",
        "\n",
        "    plt.tight_layout()\n",
        "    plt.ylabel('True label')\n",
        "    plt.xlabel('Predicted label')\n",
        "\n",
        "def removeDuplicates(s):\n",
        "    chars = []\n",
        "    prev = None\n",
        "    prev1 = None\n",
        "    i,j=0,0\n",
        "    while i < len(s):\n",
        "      count=0\n",
        "      j=i\n",
        "      while j<len(s):\n",
        "        if (s[i] == s[j]):\n",
        "          count+=1\n",
        "        else:\n",
        "          break\n",
        "        j+=1\n",
        "      if (count>=2):\n",
        "        chars.append(s[i])\n",
        "        chars.append(s[i])\n",
        "        i+=count\n",
        "      else:\n",
        "        chars.append(s[i])\n",
        "        i+=1;\n",
        "\n",
        "\n",
        "    return ''.join(chars)"
      ]
    },
    {
      "cell_type": "code",
      "execution_count": null,
      "metadata": {
        "colab": {
          "base_uri": "https://localhost:8080/",
          "height": 87
        },
        "id": "Xyw40Do0p4tP",
        "outputId": "51b48554-be18-4744-dcbb-57b579dd690e"
      },
      "outputs": [
        {
          "data": {
            "application/vnd.google.colaboratory.intrinsic+json": {
              "type": "string"
            },
            "text/plain": [
              "\"train['text'] = train['text'].apply(clean)\\ntrain['text'] = train['text'].apply(remove_emoji)\\ntrain['text'] = train['text'].apply(removeDuplicates)\\n\\nval['text'] = val['text'].apply(clean)\\nval['text'] = val['text'].apply(remove_emoji)\\nval['text'] = val['text'].apply(removeDuplicates)\\n\\ntest['text'] = test['text'].apply(clean)\\ntest['text'] = test['text'].apply(remove_emoji)\\ntest['text'] = test['text'].apply(removeDuplicates)\""
            ]
          },
          "execution_count": 29,
          "metadata": {},
          "output_type": "execute_result"
        }
      ],
      "source": [
        "\"\"\"train['text'] = train['text'].apply(clean)\n",
        "train['text'] = train['text'].apply(remove_emoji)\n",
        "train['text'] = train['text'].apply(removeDuplicates)\n",
        "\n",
        "val['text'] = val['text'].apply(clean)\n",
        "val['text'] = val['text'].apply(remove_emoji)\n",
        "val['text'] = val['text'].apply(removeDuplicates)\n",
        "\n",
        "test['text'] = test['text'].apply(clean)\n",
        "test['text'] = test['text'].apply(remove_emoji)\n",
        "test['text'] = test['text'].apply(removeDuplicates)\"\"\"\n"
      ]
    },
    {
      "cell_type": "code",
      "execution_count": null,
      "metadata": {
        "colab": {
          "base_uri": "https://localhost:8080/",
          "height": 206
        },
        "id": "Diz8qrN7R5Gf",
        "outputId": "0f4f4fcb-56ca-40c5-d400-d7b7ccc1a06d"
      },
      "outputs": [
        {
          "data": {
            "text/html": [
              "\n",
              "  <div id=\"df-b4d1e8aa-0c9a-4ba6-be21-08c36e1c7717\">\n",
              "    <div class=\"colab-df-container\">\n",
              "      <div>\n",
              "<style scoped>\n",
              "    .dataframe tbody tr th:only-of-type {\n",
              "        vertical-align: middle;\n",
              "    }\n",
              "\n",
              "    .dataframe tbody tr th {\n",
              "        vertical-align: top;\n",
              "    }\n",
              "\n",
              "    .dataframe thead th {\n",
              "        text-align: right;\n",
              "    }\n",
              "</style>\n",
              "<table border=\"1\" class=\"dataframe\">\n",
              "  <thead>\n",
              "    <tr style=\"text-align: right;\">\n",
              "      <th></th>\n",
              "      <th>Category</th>\n",
              "      <th>Text</th>\n",
              "    </tr>\n",
              "  </thead>\n",
              "  <tbody>\n",
              "    <tr>\n",
              "      <th>0</th>\n",
              "      <td>Hope-Speech</td>\n",
              "      <td>உங்கள் பேச்சை எதிர்பார்த்தேன். நல்ல விளக்கம்  ...</td>\n",
              "    </tr>\n",
              "    <tr>\n",
              "      <th>1</th>\n",
              "      <td>None-of-the-above</td>\n",
              "      <td>எச். ராசாவால் இராமருக்கே  இழிவு. இவர் எல்லாம் ...</td>\n",
              "    </tr>\n",
              "    <tr>\n",
              "      <th>2</th>\n",
              "      <td>None-of-the-above</td>\n",
              "      <td>கல்யாணம்னு  வரும்போது தான் சாதி முக்கியம் எங்க...</td>\n",
              "    </tr>\n",
              "    <tr>\n",
              "      <th>3</th>\n",
              "      <td>None-of-the-above</td>\n",
              "      <td>Tentu Kottai ஐயா நான் தமிழ் இந்து.</td>\n",
              "    </tr>\n",
              "    <tr>\n",
              "      <th>4</th>\n",
              "      <td>Homophobia</td>\n",
              "      <td>Tamil selvan  அடே தேவடியாவுக்கு பிரந்தவனே பச்ச...</td>\n",
              "    </tr>\n",
              "  </tbody>\n",
              "</table>\n",
              "</div>\n",
              "      <button class=\"colab-df-convert\" onclick=\"convertToInteractive('df-b4d1e8aa-0c9a-4ba6-be21-08c36e1c7717')\"\n",
              "              title=\"Convert this dataframe to an interactive table.\"\n",
              "              style=\"display:none;\">\n",
              "        \n",
              "  <svg xmlns=\"http://www.w3.org/2000/svg\" height=\"24px\"viewBox=\"0 0 24 24\"\n",
              "       width=\"24px\">\n",
              "    <path d=\"M0 0h24v24H0V0z\" fill=\"none\"/>\n",
              "    <path d=\"M18.56 5.44l.94 2.06.94-2.06 2.06-.94-2.06-.94-.94-2.06-.94 2.06-2.06.94zm-11 1L8.5 8.5l.94-2.06 2.06-.94-2.06-.94L8.5 2.5l-.94 2.06-2.06.94zm10 10l.94 2.06.94-2.06 2.06-.94-2.06-.94-.94-2.06-.94 2.06-2.06.94z\"/><path d=\"M17.41 7.96l-1.37-1.37c-.4-.4-.92-.59-1.43-.59-.52 0-1.04.2-1.43.59L10.3 9.45l-7.72 7.72c-.78.78-.78 2.05 0 2.83L4 21.41c.39.39.9.59 1.41.59.51 0 1.02-.2 1.41-.59l7.78-7.78 2.81-2.81c.8-.78.8-2.07 0-2.86zM5.41 20L4 18.59l7.72-7.72 1.47 1.35L5.41 20z\"/>\n",
              "  </svg>\n",
              "      </button>\n",
              "      \n",
              "  <style>\n",
              "    .colab-df-container {\n",
              "      display:flex;\n",
              "      flex-wrap:wrap;\n",
              "      gap: 12px;\n",
              "    }\n",
              "\n",
              "    .colab-df-convert {\n",
              "      background-color: #E8F0FE;\n",
              "      border: none;\n",
              "      border-radius: 50%;\n",
              "      cursor: pointer;\n",
              "      display: none;\n",
              "      fill: #1967D2;\n",
              "      height: 32px;\n",
              "      padding: 0 0 0 0;\n",
              "      width: 32px;\n",
              "    }\n",
              "\n",
              "    .colab-df-convert:hover {\n",
              "      background-color: #E2EBFA;\n",
              "      box-shadow: 0px 1px 2px rgba(60, 64, 67, 0.3), 0px 1px 3px 1px rgba(60, 64, 67, 0.15);\n",
              "      fill: #174EA6;\n",
              "    }\n",
              "\n",
              "    [theme=dark] .colab-df-convert {\n",
              "      background-color: #3B4455;\n",
              "      fill: #D2E3FC;\n",
              "    }\n",
              "\n",
              "    [theme=dark] .colab-df-convert:hover {\n",
              "      background-color: #434B5C;\n",
              "      box-shadow: 0px 1px 3px 1px rgba(0, 0, 0, 0.15);\n",
              "      filter: drop-shadow(0px 1px 2px rgba(0, 0, 0, 0.3));\n",
              "      fill: #FFFFFF;\n",
              "    }\n",
              "  </style>\n",
              "\n",
              "      <script>\n",
              "        const buttonEl =\n",
              "          document.querySelector('#df-b4d1e8aa-0c9a-4ba6-be21-08c36e1c7717 button.colab-df-convert');\n",
              "        buttonEl.style.display =\n",
              "          google.colab.kernel.accessAllowed ? 'block' : 'none';\n",
              "\n",
              "        async function convertToInteractive(key) {\n",
              "          const element = document.querySelector('#df-b4d1e8aa-0c9a-4ba6-be21-08c36e1c7717');\n",
              "          const dataTable =\n",
              "            await google.colab.kernel.invokeFunction('convertToInteractive',\n",
              "                                                     [key], {});\n",
              "          if (!dataTable) return;\n",
              "\n",
              "          const docLinkHtml = 'Like what you see? Visit the ' +\n",
              "            '<a target=\"_blank\" href=https://colab.research.google.com/notebooks/data_table.ipynb>data table notebook</a>'\n",
              "            + ' to learn more about interactive tables.';\n",
              "          element.innerHTML = '';\n",
              "          dataTable['output_type'] = 'display_data';\n",
              "          await google.colab.output.renderOutput(dataTable, element);\n",
              "          const docLink = document.createElement('div');\n",
              "          docLink.innerHTML = docLinkHtml;\n",
              "          element.appendChild(docLink);\n",
              "        }\n",
              "      </script>\n",
              "    </div>\n",
              "  </div>\n",
              "  "
            ],
            "text/plain": [
              "            Category                                               Text\n",
              "0        Hope-Speech  உங்கள் பேச்சை எதிர்பார்த்தேன். நல்ல விளக்கம்  ...\n",
              "1  None-of-the-above  எச். ராசாவால் இராமருக்கே  இழிவு. இவர் எல்லாம் ...\n",
              "2  None-of-the-above  கல்யாணம்னு  வரும்போது தான் சாதி முக்கியம் எங்க...\n",
              "3  None-of-the-above                 Tentu Kottai ஐயா நான் தமிழ் இந்து.\n",
              "4         Homophobia  Tamil selvan  அடே தேவடியாவுக்கு பிரந்தவனே பச்ச..."
            ]
          },
          "execution_count": 30,
          "metadata": {},
          "output_type": "execute_result"
        }
      ],
      "source": [
        "train.head()"
      ]
    },
    {
      "cell_type": "code",
      "execution_count": null,
      "metadata": {
        "colab": {
          "base_uri": "https://localhost:8080/",
          "height": 206
        },
        "id": "q7t_M446R6Ho",
        "outputId": "cf542581-f318-4ba4-e7e6-c10fabb08b7f"
      },
      "outputs": [
        {
          "data": {
            "text/html": [
              "\n",
              "  <div id=\"df-d682d73e-aa54-4b9d-9b4a-84ef42f2d2a4\">\n",
              "    <div class=\"colab-df-container\">\n",
              "      <div>\n",
              "<style scoped>\n",
              "    .dataframe tbody tr th:only-of-type {\n",
              "        vertical-align: middle;\n",
              "    }\n",
              "\n",
              "    .dataframe tbody tr th {\n",
              "        vertical-align: top;\n",
              "    }\n",
              "\n",
              "    .dataframe thead th {\n",
              "        text-align: right;\n",
              "    }\n",
              "</style>\n",
              "<table border=\"1\" class=\"dataframe\">\n",
              "  <thead>\n",
              "    <tr style=\"text-align: right;\">\n",
              "      <th></th>\n",
              "      <th>Category</th>\n",
              "      <th>Text</th>\n",
              "    </tr>\n",
              "  </thead>\n",
              "  <tbody>\n",
              "    <tr>\n",
              "      <th>0</th>\n",
              "      <td>None-of-the-above</td>\n",
              "      <td>Ada பாவிகளா அந்த மனுசன் சரியா தான் சொள்ளிருக்க...</td>\n",
              "    </tr>\n",
              "    <tr>\n",
              "      <th>1</th>\n",
              "      <td>Misogyny</td>\n",
              "      <td>இவங்களே குடும்பாங்களாம் அப்புறம் இவங்களே வரதட்...</td>\n",
              "    </tr>\n",
              "    <tr>\n",
              "      <th>2</th>\n",
              "      <td>Misandry</td>\n",
              "      <td>பொது மேடையில் பேச தகுதி இல்லாதவன் ராஜா</td>\n",
              "    </tr>\n",
              "    <tr>\n",
              "      <th>3</th>\n",
              "      <td>None-of-the-above</td>\n",
              "      <td>சீனிவாசன் மனித குலத்திற்க்கு கிடைத்த அரிய பொக்...</td>\n",
              "    </tr>\n",
              "    <tr>\n",
              "      <th>4</th>\n",
              "      <td>Xenophobia</td>\n",
              "      <td>கைபர் கணவாய் வழியாக வந்தீர்கள் நீ இந்தியன் இல்லை</td>\n",
              "    </tr>\n",
              "  </tbody>\n",
              "</table>\n",
              "</div>\n",
              "      <button class=\"colab-df-convert\" onclick=\"convertToInteractive('df-d682d73e-aa54-4b9d-9b4a-84ef42f2d2a4')\"\n",
              "              title=\"Convert this dataframe to an interactive table.\"\n",
              "              style=\"display:none;\">\n",
              "        \n",
              "  <svg xmlns=\"http://www.w3.org/2000/svg\" height=\"24px\"viewBox=\"0 0 24 24\"\n",
              "       width=\"24px\">\n",
              "    <path d=\"M0 0h24v24H0V0z\" fill=\"none\"/>\n",
              "    <path d=\"M18.56 5.44l.94 2.06.94-2.06 2.06-.94-2.06-.94-.94-2.06-.94 2.06-2.06.94zm-11 1L8.5 8.5l.94-2.06 2.06-.94-2.06-.94L8.5 2.5l-.94 2.06-2.06.94zm10 10l.94 2.06.94-2.06 2.06-.94-2.06-.94-.94-2.06-.94 2.06-2.06.94z\"/><path d=\"M17.41 7.96l-1.37-1.37c-.4-.4-.92-.59-1.43-.59-.52 0-1.04.2-1.43.59L10.3 9.45l-7.72 7.72c-.78.78-.78 2.05 0 2.83L4 21.41c.39.39.9.59 1.41.59.51 0 1.02-.2 1.41-.59l7.78-7.78 2.81-2.81c.8-.78.8-2.07 0-2.86zM5.41 20L4 18.59l7.72-7.72 1.47 1.35L5.41 20z\"/>\n",
              "  </svg>\n",
              "      </button>\n",
              "      \n",
              "  <style>\n",
              "    .colab-df-container {\n",
              "      display:flex;\n",
              "      flex-wrap:wrap;\n",
              "      gap: 12px;\n",
              "    }\n",
              "\n",
              "    .colab-df-convert {\n",
              "      background-color: #E8F0FE;\n",
              "      border: none;\n",
              "      border-radius: 50%;\n",
              "      cursor: pointer;\n",
              "      display: none;\n",
              "      fill: #1967D2;\n",
              "      height: 32px;\n",
              "      padding: 0 0 0 0;\n",
              "      width: 32px;\n",
              "    }\n",
              "\n",
              "    .colab-df-convert:hover {\n",
              "      background-color: #E2EBFA;\n",
              "      box-shadow: 0px 1px 2px rgba(60, 64, 67, 0.3), 0px 1px 3px 1px rgba(60, 64, 67, 0.15);\n",
              "      fill: #174EA6;\n",
              "    }\n",
              "\n",
              "    [theme=dark] .colab-df-convert {\n",
              "      background-color: #3B4455;\n",
              "      fill: #D2E3FC;\n",
              "    }\n",
              "\n",
              "    [theme=dark] .colab-df-convert:hover {\n",
              "      background-color: #434B5C;\n",
              "      box-shadow: 0px 1px 3px 1px rgba(0, 0, 0, 0.15);\n",
              "      filter: drop-shadow(0px 1px 2px rgba(0, 0, 0, 0.3));\n",
              "      fill: #FFFFFF;\n",
              "    }\n",
              "  </style>\n",
              "\n",
              "      <script>\n",
              "        const buttonEl =\n",
              "          document.querySelector('#df-d682d73e-aa54-4b9d-9b4a-84ef42f2d2a4 button.colab-df-convert');\n",
              "        buttonEl.style.display =\n",
              "          google.colab.kernel.accessAllowed ? 'block' : 'none';\n",
              "\n",
              "        async function convertToInteractive(key) {\n",
              "          const element = document.querySelector('#df-d682d73e-aa54-4b9d-9b4a-84ef42f2d2a4');\n",
              "          const dataTable =\n",
              "            await google.colab.kernel.invokeFunction('convertToInteractive',\n",
              "                                                     [key], {});\n",
              "          if (!dataTable) return;\n",
              "\n",
              "          const docLinkHtml = 'Like what you see? Visit the ' +\n",
              "            '<a target=\"_blank\" href=https://colab.research.google.com/notebooks/data_table.ipynb>data table notebook</a>'\n",
              "            + ' to learn more about interactive tables.';\n",
              "          element.innerHTML = '';\n",
              "          dataTable['output_type'] = 'display_data';\n",
              "          await google.colab.output.renderOutput(dataTable, element);\n",
              "          const docLink = document.createElement('div');\n",
              "          docLink.innerHTML = docLinkHtml;\n",
              "          element.appendChild(docLink);\n",
              "        }\n",
              "      </script>\n",
              "    </div>\n",
              "  </div>\n",
              "  "
            ],
            "text/plain": [
              "            Category                                               Text\n",
              "0  None-of-the-above  Ada பாவிகளா அந்த மனுசன் சரியா தான் சொள்ளிருக்க...\n",
              "1           Misogyny  இவங்களே குடும்பாங்களாம் அப்புறம் இவங்களே வரதட்...\n",
              "2           Misandry             பொது மேடையில் பேச தகுதி இல்லாதவன் ராஜா\n",
              "3  None-of-the-above  சீனிவாசன் மனித குலத்திற்க்கு கிடைத்த அரிய பொக்...\n",
              "4         Xenophobia   கைபர் கணவாய் வழியாக வந்தீர்கள் நீ இந்தியன் இல்லை"
            ]
          },
          "execution_count": 31,
          "metadata": {},
          "output_type": "execute_result"
        }
      ],
      "source": [
        "val.head()"
      ]
    },
    {
      "cell_type": "code",
      "execution_count": null,
      "metadata": {
        "colab": {
          "base_uri": "https://localhost:8080/",
          "height": 206
        },
        "id": "yH_3I0RqR6M_",
        "outputId": "5060e604-bcb4-4f9f-d490-a516a7c6b6e4"
      },
      "outputs": [
        {
          "data": {
            "text/html": [
              "\n",
              "  <div id=\"df-7b182574-3c18-4858-8ebb-0d418d974d24\">\n",
              "    <div class=\"colab-df-container\">\n",
              "      <div>\n",
              "<style scoped>\n",
              "    .dataframe tbody tr th:only-of-type {\n",
              "        vertical-align: middle;\n",
              "    }\n",
              "\n",
              "    .dataframe tbody tr th {\n",
              "        vertical-align: top;\n",
              "    }\n",
              "\n",
              "    .dataframe thead th {\n",
              "        text-align: right;\n",
              "    }\n",
              "</style>\n",
              "<table border=\"1\" class=\"dataframe\">\n",
              "  <thead>\n",
              "    <tr style=\"text-align: right;\">\n",
              "      <th></th>\n",
              "      <th>Category</th>\n",
              "      <th>Text</th>\n",
              "    </tr>\n",
              "  </thead>\n",
              "  <tbody>\n",
              "    <tr>\n",
              "      <th>0</th>\n",
              "      <td>Counter-speech</td>\n",
              "      <td>தகுதிக்கு ஏற்றார் போல் பெண் அல்லது மாப்பிளை பா...</td>\n",
              "    </tr>\n",
              "    <tr>\n",
              "      <th>1</th>\n",
              "      <td>Counter-speech</td>\n",
              "      <td>கேவலமான சமஸ்கிருத கல்யாண மந்திரங்கள். நான் ஹிந...</td>\n",
              "    </tr>\n",
              "    <tr>\n",
              "      <th>2</th>\n",
              "      <td>Counter-speech</td>\n",
              "      <td>பிராமணர்களில் எத்தனையோ நல்லவர்கள் இருக்கிறார்க...</td>\n",
              "    </tr>\n",
              "    <tr>\n",
              "      <th>3</th>\n",
              "      <td>Counter-speech</td>\n",
              "      <td>youtube  பாக்குற யாரும் vote போடா போறதில்லையோ ...</td>\n",
              "    </tr>\n",
              "    <tr>\n",
              "      <th>4</th>\n",
              "      <td>Counter-speech</td>\n",
              "      <td>வருண் அம்மா மட்டும் இல்ல. இங்கு பலர் பயப்படுவத...</td>\n",
              "    </tr>\n",
              "  </tbody>\n",
              "</table>\n",
              "</div>\n",
              "      <button class=\"colab-df-convert\" onclick=\"convertToInteractive('df-7b182574-3c18-4858-8ebb-0d418d974d24')\"\n",
              "              title=\"Convert this dataframe to an interactive table.\"\n",
              "              style=\"display:none;\">\n",
              "        \n",
              "  <svg xmlns=\"http://www.w3.org/2000/svg\" height=\"24px\"viewBox=\"0 0 24 24\"\n",
              "       width=\"24px\">\n",
              "    <path d=\"M0 0h24v24H0V0z\" fill=\"none\"/>\n",
              "    <path d=\"M18.56 5.44l.94 2.06.94-2.06 2.06-.94-2.06-.94-.94-2.06-.94 2.06-2.06.94zm-11 1L8.5 8.5l.94-2.06 2.06-.94-2.06-.94L8.5 2.5l-.94 2.06-2.06.94zm10 10l.94 2.06.94-2.06 2.06-.94-2.06-.94-.94-2.06-.94 2.06-2.06.94z\"/><path d=\"M17.41 7.96l-1.37-1.37c-.4-.4-.92-.59-1.43-.59-.52 0-1.04.2-1.43.59L10.3 9.45l-7.72 7.72c-.78.78-.78 2.05 0 2.83L4 21.41c.39.39.9.59 1.41.59.51 0 1.02-.2 1.41-.59l7.78-7.78 2.81-2.81c.8-.78.8-2.07 0-2.86zM5.41 20L4 18.59l7.72-7.72 1.47 1.35L5.41 20z\"/>\n",
              "  </svg>\n",
              "      </button>\n",
              "      \n",
              "  <style>\n",
              "    .colab-df-container {\n",
              "      display:flex;\n",
              "      flex-wrap:wrap;\n",
              "      gap: 12px;\n",
              "    }\n",
              "\n",
              "    .colab-df-convert {\n",
              "      background-color: #E8F0FE;\n",
              "      border: none;\n",
              "      border-radius: 50%;\n",
              "      cursor: pointer;\n",
              "      display: none;\n",
              "      fill: #1967D2;\n",
              "      height: 32px;\n",
              "      padding: 0 0 0 0;\n",
              "      width: 32px;\n",
              "    }\n",
              "\n",
              "    .colab-df-convert:hover {\n",
              "      background-color: #E2EBFA;\n",
              "      box-shadow: 0px 1px 2px rgba(60, 64, 67, 0.3), 0px 1px 3px 1px rgba(60, 64, 67, 0.15);\n",
              "      fill: #174EA6;\n",
              "    }\n",
              "\n",
              "    [theme=dark] .colab-df-convert {\n",
              "      background-color: #3B4455;\n",
              "      fill: #D2E3FC;\n",
              "    }\n",
              "\n",
              "    [theme=dark] .colab-df-convert:hover {\n",
              "      background-color: #434B5C;\n",
              "      box-shadow: 0px 1px 3px 1px rgba(0, 0, 0, 0.15);\n",
              "      filter: drop-shadow(0px 1px 2px rgba(0, 0, 0, 0.3));\n",
              "      fill: #FFFFFF;\n",
              "    }\n",
              "  </style>\n",
              "\n",
              "      <script>\n",
              "        const buttonEl =\n",
              "          document.querySelector('#df-7b182574-3c18-4858-8ebb-0d418d974d24 button.colab-df-convert');\n",
              "        buttonEl.style.display =\n",
              "          google.colab.kernel.accessAllowed ? 'block' : 'none';\n",
              "\n",
              "        async function convertToInteractive(key) {\n",
              "          const element = document.querySelector('#df-7b182574-3c18-4858-8ebb-0d418d974d24');\n",
              "          const dataTable =\n",
              "            await google.colab.kernel.invokeFunction('convertToInteractive',\n",
              "                                                     [key], {});\n",
              "          if (!dataTable) return;\n",
              "\n",
              "          const docLinkHtml = 'Like what you see? Visit the ' +\n",
              "            '<a target=\"_blank\" href=https://colab.research.google.com/notebooks/data_table.ipynb>data table notebook</a>'\n",
              "            + ' to learn more about interactive tables.';\n",
              "          element.innerHTML = '';\n",
              "          dataTable['output_type'] = 'display_data';\n",
              "          await google.colab.output.renderOutput(dataTable, element);\n",
              "          const docLink = document.createElement('div');\n",
              "          docLink.innerHTML = docLinkHtml;\n",
              "          element.appendChild(docLink);\n",
              "        }\n",
              "      </script>\n",
              "    </div>\n",
              "  </div>\n",
              "  "
            ],
            "text/plain": [
              "         Category                                               Text\n",
              "0  Counter-speech  தகுதிக்கு ஏற்றார் போல் பெண் அல்லது மாப்பிளை பா...\n",
              "1  Counter-speech  கேவலமான சமஸ்கிருத கல்யாண மந்திரங்கள். நான் ஹிந...\n",
              "2  Counter-speech  பிராமணர்களில் எத்தனையோ நல்லவர்கள் இருக்கிறார்க...\n",
              "3  Counter-speech  youtube  பாக்குற யாரும் vote போடா போறதில்லையோ ...\n",
              "4  Counter-speech  வருண் அம்மா மட்டும் இல்ல. இங்கு பலர் பயப்படுவத..."
            ]
          },
          "execution_count": 32,
          "metadata": {},
          "output_type": "execute_result"
        }
      ],
      "source": [
        "test.head()"
      ]
    },
    {
      "cell_type": "code",
      "execution_count": null,
      "metadata": {
        "colab": {
          "base_uri": "https://localhost:8080/"
        },
        "id": "pjfuTVwipvbh",
        "outputId": "a30fa7ab-8baf-4152-c709-788228dcb9dc"
      },
      "outputs": [
        {
          "data": {
            "text/plain": [
              "(561, 2)"
            ]
          },
          "execution_count": 33,
          "metadata": {},
          "output_type": "execute_result"
        }
      ],
      "source": [
        "test.shape"
      ]
    },
    {
      "cell_type": "code",
      "execution_count": null,
      "metadata": {
        "colab": {
          "base_uri": "https://localhost:8080/"
        },
        "id": "5QZc-RnVqqWk",
        "outputId": "7d3d53a9-c023-44c0-bf1b-ecbcf1f84059"
      },
      "outputs": [
        {
          "name": "stdout",
          "output_type": "stream",
          "text": [
            "Please install GPU version of TF\n"
          ]
        }
      ],
      "source": [
        "if tf.test.gpu_device_name():\n",
        "    print('Default GPU Device:{}'.format(tf.test.gpu_device_name()))\n",
        "\n",
        "else:\n",
        "    print(\"Please install GPU version of TF\")"
      ]
    },
    {
      "cell_type": "code",
      "execution_count": null,
      "metadata": {
        "id": "dFTw8kdTqCMA"
      },
      "outputs": [],
      "source": [
        "num_words = 20000\n",
        "tokenizer = Tokenizer(num_words=num_words,oov_token=\"unk\")\n",
        "tokenizer.fit_on_texts(train['Text'].tolist())\n",
        "tokenizer.fit_on_texts(val['Text'].tolist())\n",
        "tokenizer.fit_on_texts(test['Text'].tolist())"
      ]
    },
    {
      "cell_type": "code",
      "execution_count": null,
      "metadata": {
        "colab": {
          "base_uri": "https://localhost:8080/"
        },
        "id": "zqD0_bt327DE",
        "outputId": "e0385a45-7aa0-49f8-b9f9-bc93bb69e92a"
      },
      "outputs": [
        {
          "name": "stdout",
          "output_type": "stream",
          "text": [
            "Test Max Sentence Length :86\n"
          ]
        }
      ],
      "source": [
        "test['Num_words_text'] = test['Text'].apply(lambda x:len(str(x).split()))\n",
        "\n",
        "max_test_sentence_length  = test['Num_words_text'].max()\n",
        "\n",
        "print('Test Max Sentence Length :'+str(max_test_sentence_length))"
      ]
    },
    {
      "cell_type": "code",
      "execution_count": null,
      "metadata": {
        "colab": {
          "base_uri": "https://localhost:8080/"
        },
        "id": "MPyVVICrrika",
        "outputId": "3b3bc29f-2209-4cd9-bfb0-0fcb0784950d"
      },
      "outputs": [
        {
          "name": "stdout",
          "output_type": "stream",
          "text": [
            "[  31  115 3638   24  380   79  430  942   94 3639 2103  221 1150  111\n",
            "    0    0    0    0    0    0    0    0    0    0    0    0    0    0\n",
            "    0    0    0    0    0    0    0    0    0    0    0    0]\n",
            "[[0. 0. 1. ... 0. 0. 0.]\n",
            " [0. 0. 0. ... 0. 0. 0.]\n",
            " [0. 0. 0. ... 0. 0. 0.]\n",
            " ...\n",
            " [0. 0. 0. ... 0. 0. 0.]\n",
            " [0. 0. 0. ... 0. 0. 0.]\n",
            " [0. 0. 0. ... 0. 0. 0.]]\n"
          ]
        },
        {
          "name": "stderr",
          "output_type": "stream",
          "text": [
            "/usr/local/lib/python3.7/dist-packages/ipykernel_launcher.py:1: VisibleDeprecationWarning:\n",
            "\n",
            "Creating an ndarray from ragged nested sequences (which is a list-or-tuple of lists-or-tuples-or ndarrays with different lengths or shapes) is deprecated. If you meant to do this, you must specify 'dtype=object' when creating the ndarray.\n",
            "\n",
            "/usr/local/lib/python3.7/dist-packages/ipykernel_launcher.py:2: VisibleDeprecationWarning:\n",
            "\n",
            "Creating an ndarray from ragged nested sequences (which is a list-or-tuple of lists-or-tuples-or ndarrays with different lengths or shapes) is deprecated. If you meant to do this, you must specify 'dtype=object' when creating the ndarray.\n",
            "\n",
            "/usr/local/lib/python3.7/dist-packages/ipykernel_launcher.py:3: VisibleDeprecationWarning:\n",
            "\n",
            "Creating an ndarray from ragged nested sequences (which is a list-or-tuple of lists-or-tuples-or ndarrays with different lengths or shapes) is deprecated. If you meant to do this, you must specify 'dtype=object' when creating the ndarray.\n",
            "\n"
          ]
        }
      ],
      "source": [
        "x_train = np.array( tokenizer.texts_to_sequences(train['Text']) )\n",
        "x_valid = np.array( tokenizer.texts_to_sequences(val['Text']) )\n",
        "x_test  = np.array( tokenizer.texts_to_sequences(test['Text']) )\n",
        "\n",
        "\n",
        "\n",
        "x_train = pad_sequences(x_train, padding='post', maxlen=40)\n",
        "x_valid = pad_sequences(x_valid, padding='post', maxlen=40)\n",
        "x_test = pad_sequences(x_test, padding='post', maxlen=40)\n",
        "\n",
        "print(x_train[0])\n",
        "\n",
        "le = LabelEncoder()\n",
        "\n",
        "train_labels = le.fit_transform(train['Category'])\n",
        "train_labels = np.asarray( tf.keras.utils.to_categorical(train_labels))\n",
        "print(train_labels)\n",
        "\n",
        "valid_labels = le.transform(val['Category'])\n",
        "valid_labels = np.asarray( tf.keras.utils.to_categorical(valid_labels))\n",
        "\n",
        "test_labels = le.transform(test['Category'])\n",
        "test_labels = np.asarray(tf.keras.utils.to_categorical(test_labels))\n",
        "\n",
        "list(le.classes_)\n",
        "\n",
        "\n",
        "train_ds = tf.data.Dataset.from_tensor_slices((x_train,train_labels))\n",
        "valid_ds = tf.data.Dataset.from_tensor_slices((x_valid,valid_labels))\n",
        "test_ds = tf.data.Dataset.from_tensor_slices((x_test,test_labels))"
      ]
    },
    {
      "cell_type": "code",
      "execution_count": null,
      "metadata": {
        "colab": {
          "base_uri": "https://localhost:8080/"
        },
        "id": "Vpp3dCr-rzsP",
        "outputId": "9b1edd41-fb39-44f3-ac70-f171cf79cb91"
      },
      "outputs": [
        {
          "name": "stdout",
          "output_type": "stream",
          "text": [
            "10    None-of-the-above\n",
            "11    None-of-the-above\n",
            "12    None-of-the-above\n",
            "13    None-of-the-above\n",
            "14             Misandry\n",
            "15    None-of-the-above\n",
            "16    None-of-the-above\n",
            "17    None-of-the-above\n",
            "18       Counter-speech\n",
            "19    None-of-the-above\n",
            "20    None-of-the-above\n",
            "21             Misandry\n",
            "22    None-of-the-above\n",
            "Name: Category, dtype: object\n",
            "Text to number\n",
            "[5 5 5 5 3 5 5 5 0 5 5 3 5]\n",
            "Number to category\n",
            "[[0. 0. 1. 0. 0. 0. 0. 0. 0.]\n",
            " [0. 0. 0. 0. 0. 1. 0. 0. 0.]\n",
            " [0. 0. 0. 0. 0. 1. 0. 0. 0.]]\n"
          ]
        }
      ],
      "source": [
        "y_train=train['Category']\n",
        "print(y_train[10:23])\n",
        "train_labels = le.fit_transform(y_train)\n",
        "print('Text to number')\n",
        "print(train_labels[10:23])\n",
        "train_labels = np.asarray( tf.keras.utils.to_categorical(train_labels))\n",
        "print('Number to category')\n",
        "print(train_labels[:3])"
      ]
    },
    {
      "cell_type": "code",
      "execution_count": null,
      "metadata": {
        "colab": {
          "base_uri": "https://localhost:8080/"
        },
        "id": "EnWG1xL_sJQB",
        "outputId": "9dbde8c4-c895-49c9-b518-9ea139e84f85"
      },
      "outputs": [
        {
          "name": "stdout",
          "output_type": "stream",
          "text": [
            "Model: \"sequential_1\"\n",
            "_________________________________________________________________\n",
            " Layer (type)                Output Shape              Param #   \n",
            "=================================================================\n",
            " embedding_1 (Embedding)     (None, 40, 128)           2560128   \n",
            "                                                                 \n",
            " conv1d_1 (Conv1D)           (None, 40, 128)           49280     \n",
            "                                                                 \n",
            " max_pooling1d_1 (MaxPooling  (None, 20, 128)          0         \n",
            " 1D)                                                             \n",
            "                                                                 \n",
            " lstm_1 (LSTM)               (None, 196)               254800    \n",
            "                                                                 \n",
            " dense_1 (Dense)             (None, 9)                 1773      \n",
            "                                                                 \n",
            "=================================================================\n",
            "Total params: 2,865,981\n",
            "Trainable params: 2,865,981\n",
            "Non-trainable params: 0\n",
            "_________________________________________________________________\n"
          ]
        }
      ],
      "source": [
        "max_features =20000\n",
        "embedding_dim =128\n",
        "sequence_length = 40\n",
        "embed_dim = 128\n",
        "lstm_out = 196\n",
        "from keras.layers import GRU\n",
        "model = tf.keras.Sequential()\n",
        "model.add(tf.keras.layers.Embedding(max_features +1, embedding_dim, input_length=sequence_length,\\\n",
        "                                    embeddings_regularizer = regularizers.l2(0.0005)))\n",
        "\n",
        "model.add(tf.keras.layers.Conv1D(filters=128, kernel_size=3, padding='same', activation='relu'))\n",
        "\n",
        "model.add(tf.keras.layers.MaxPooling1D(pool_size=2))\n",
        "\n",
        "model.add(tf.keras.layers.LSTM(lstm_out, dropout=0.2, recurrent_dropout=0.2))\n",
        "\n",
        "model.add(tf.keras.layers.Dense(9, activation='softmax',\\\n",
        "                                kernel_regularizer=regularizers.l2(0.001),\\\n",
        "                                bias_regularizer=regularizers.l2(0.001),))\n",
        "\n",
        "\n",
        "\n",
        "\n",
        "model.summary()\n",
        "model.compile(loss=tf.keras.losses.CategoricalCrossentropy(from_logits=True), optimizer='adam', metrics=[\"accuracy\"])"
      ]
    },
    {
      "cell_type": "code",
      "execution_count": null,
      "metadata": {
        "colab": {
          "base_uri": "https://localhost:8080/"
        },
        "id": "a6TAcXFNsQeo",
        "outputId": "1039cfa1-43e1-4340-e58a-162de7f7508d"
      },
      "outputs": [
        {
          "name": "stdout",
          "output_type": "stream",
          "text": [
            "Epoch 1/2\n"
          ]
        },
        {
          "name": "stderr",
          "output_type": "stream",
          "text": [
            "/usr/local/lib/python3.7/dist-packages/tensorflow/python/util/dispatch.py:1082: UserWarning:\n",
            "\n",
            "\"`categorical_crossentropy` received `from_logits=True`, but the `output` argument was produced by a sigmoid or softmax activation and thus does not represent logits. Was this intended?\"\n",
            "\n"
          ]
        },
        {
          "name": "stdout",
          "output_type": "stream",
          "text": [
            "16/16 [==============================] - 8s 307ms/step - loss: 2.3531 - accuracy: 0.5618\n",
            "Epoch 2/2\n",
            "16/16 [==============================] - 5s 306ms/step - loss: 1.5707 - accuracy: 0.5808\n"
          ]
        }
      ],
      "source": [
        "epochs =2\n",
        "# Fit the model using the train and test datasets.\n",
        "#history = model.fit(x_train, train_labels,validation_data= (x_test,test_labels),epochs=epochs )\n",
        "history = model.fit(train_ds.shuffle(2000).batch(128),\n",
        "                    epochs= epochs)"
      ]
    },
    {
      "cell_type": "code",
      "execution_count": null,
      "metadata": {
        "id": "ukImHH6ZstWd"
      },
      "outputs": [],
      "source": [
        "\n",
        "history.history"
      ]
    },
    {
      "cell_type": "code",
      "execution_count": null,
      "metadata": {
        "colab": {
          "base_uri": "https://localhost:8080/"
        },
        "id": "O45ypo47jAy_",
        "outputId": "ddcbc712-ff75-4f20-c34a-7b79f9ed905e"
      },
      "outputs": [
        {
          "name": "stderr",
          "output_type": "stream",
          "text": [
            "/usr/local/lib/python3.7/dist-packages/tensorflow/python/util/dispatch.py:1082: UserWarning:\n",
            "\n",
            "\"`categorical_crossentropy` received `from_logits=True`, but the `output` argument was produced by a sigmoid or softmax activation and thus does not represent logits. Was this intended?\"\n",
            "\n"
          ]
        },
        {
          "name": "stdout",
          "output_type": "stream",
          "text": [
            "18/18 [==============================] - 1s 26ms/step - loss: 1.3652 - accuracy: 0.6168\n",
            "Test set\n",
            "  Loss: 1.365\n",
            "  Accuracy: 0.617\n"
          ]
        }
      ],
      "source": [
        "accr = model.evaluate(x_test ,test_labels)\n",
        "print('Test set\\n  Loss: {:0.3f}\\n  Accuracy: {:0.3f}'.format(accr[0],accr[1]))"
      ]
    },
    {
      "cell_type": "code",
      "execution_count": null,
      "metadata": {
        "colab": {
          "base_uri": "https://localhost:8080/"
        },
        "id": "jWCPpg2ggyDT",
        "outputId": "fa5d2266-300b-447c-b6ee-3da7ea8a349b"
      },
      "outputs": [
        {
          "name": "stdout",
          "output_type": "stream",
          "text": [
            "Generate predictions for all samples\n",
            "[[0.06024186 0.01302313 0.03724986 ... 0.0031597  0.00304375 0.04652745]\n",
            " [0.08228315 0.02535902 0.05289665 ... 0.00955834 0.00869752 0.06749774]\n",
            " [0.12641056 0.05304607 0.08789558 ... 0.03388302 0.03159655 0.10041246]\n",
            " ...\n",
            " [0.05654014 0.01147876 0.03493656 ... 0.00252486 0.00248127 0.04307829]\n",
            " [0.05609216 0.0113101  0.03467289 ... 0.00245729 0.00242127 0.04267786]\n",
            " [0.06561888 0.01549616 0.0407057  ... 0.00426146 0.00401764 0.05154823]]\n"
          ]
        }
      ],
      "source": [
        "print(\"Generate predictions for all samples\")\n",
        "predictions = model.predict(x_test)\n",
        "print(predictions)\n",
        "predict_results = predictions.argmax(axis=1)"
      ]
    },
    {
      "cell_type": "code",
      "execution_count": null,
      "metadata": {
        "id": "PB8wCiPng7XE"
      },
      "outputs": [],
      "source": [
        "test['pred_sentiment']= predict_results\n",
        "test['pred_sentiment'] = np.where((test.pred_sentiment == '0'),'Misandry',test.pred_sentiment)\n",
        "test['pred_sentiment'] = np.where((test.pred_sentiment == '1'),'Counter-speech',test.pred_sentiment)\n",
        "test['pred_sentiment'] = np.where((test.pred_sentiment == '2'),'Misogyny ',test.pred_sentiment)\n",
        "test['pred_sentiment'] = np.where((test.pred_sentiment == '3'),'Xenophobia',test.pred_sentiment)\n",
        "test['pred_sentiment'] = np.where((test.pred_sentiment == '4'),'Hope-Speech',test.pred_sentiment)\n",
        "test['pred_sentiment'] = np.where((test.pred_sentiment == '5'),'Homophobia',test.pred_sentiment)\n",
        "test['pred_sentiment'] = np.where((test.pred_sentiment == '6'),'Transphobic',test.pred_sentiment)\n",
        "test['pred_sentiment'] = np.where((test.pred_sentiment == '7'),'Not-Tamil',test.pred_sentiment)\n",
        "test['pred_sentiment'] = np.where((test.pred_sentiment == '8'),'None-of-the-above',test.pred_sentiment)\n"
      ]
    },
    {
      "cell_type": "code",
      "execution_count": null,
      "metadata": {
        "id": "wvow-rfFEVAx"
      },
      "outputs": [],
      "source": [
        "#predictions_NB= model.predict(xvalid_tfidf_ngram)"
      ]
    },
    {
      "cell_type": "code",
      "execution_count": null,
      "metadata": {
        "colab": {
          "base_uri": "https://localhost:8080/"
        },
        "id": "cTUjEaxIs_2O",
        "outputId": "f7ea563e-b416-4bca-c984-4dfe01e8bd94"
      },
      "outputs": [
        {
          "name": "stdout",
          "output_type": "stream",
          "text": [
            "precision    recall  f1-score   support\n",
            "\n",
            "         Misandry       0.15      0.35      0.15       104\n",
            "   Counter-speech       0.26      0.07      0.06        26\n",
            "        Misogyny        0.00      0.00      0.40         0\n",
            "       Xenophobia       0.37      0.03      0.37        29\n",
            "      Hope-Speech       0.10      0.00      0.56        11\n",
            "       Homophobia       0.01      1.00      0.07         8\n",
            "      Transphobic       0.00      0.05      0.10         2\n",
            "        Not-Tamil       0.32      0.60      0.37         1\n",
            "None-of-the-above       0.03      0.04      0.54       346\n",
            "\n",
            "        micro avg       0.31      0.21      0.27       537\n",
            "        macro avg       0.20      0.41      0.30       537\n",
            "     weighted avg       0.49      0.53      0.50       537\n"
          ]
        }
      ],
      "source": [
        "labels = ['Misandry','Counter-speech','Misogyny ','Xenophobia','Hope-Speech','Homophobia','Transphobic','Not-Tamil','None-of-the-above']\n",
        "\n",
        "print(classification_report(test['Category'].tolist(),test['pred_sentiment'].tolist(),labels=labels))\n",
        "\n"
      ]
    },
    {
      "cell_type": "code",
      "execution_count": null,
      "metadata": {
        "colab": {
          "base_uri": "https://localhost:8080/"
        },
        "id": "ld_MUEm6JoKk",
        "outputId": "f3f78688-011b-4e90-cb53-d1b1dc53e860"
      },
      "outputs": [
        {
          "data": {
            "text/plain": [
              "array([[  0,  36,   0,   0,   0,   0,   0,   0,   0],\n",
              "       [  0,   8,   0,   0,   0,   0,   0,   0,   0],\n",
              "       [  0,  11,   0,   0,   0,   0,   0,   0,   0],\n",
              "       [  0, 104,   0,   0,   0,   0,   0,   0,   0],\n",
              "       [  0,  24,   0,   0,   0,   0,   0,   0,   0],\n",
              "       [  0, 346,   0,   0,   0,   0,   0,   0,   0],\n",
              "       [  0,   1,   0,   0,   0,   0,   0,   0,   0],\n",
              "       [  0,   2,   0,   0,   0,   0,   0,   0,   0],\n",
              "       [  0,  29,   0,   0,   0,   0,   0,   0,   0]])"
            ]
          },
          "execution_count": 49,
          "metadata": {},
          "output_type": "execute_result"
        }
      ],
      "source": [
        "from mlxtend.evaluate import confusion_matrix\n",
        "\n",
        "cm = confusion_matrix(y_target=test['Category'],\n",
        "                      y_predicted=test['pred_sentiment'],\n",
        "                      binary=False)\n",
        "cm"
      ]
    },
    {
      "cell_type": "code",
      "execution_count": null,
      "metadata": {
        "id": "tu8T4-C72q6x"
      },
      "outputs": [],
      "source": []
    },
    {
      "cell_type": "code",
      "execution_count": null,
      "metadata": {
        "id": "OgtPlQvPX69d"
      },
      "outputs": [],
      "source": []
    }
  ],
  "metadata": {
    "colab": {
      "provenance": []
    },
    "kernelspec": {
      "display_name": "Python 3",
      "name": "python3"
    },
    "language_info": {
      "name": "python"
    }
  },
  "nbformat": 4,
  "nbformat_minor": 0
}